{
 "cells": [
  {
   "cell_type": "code",
   "execution_count": null,
   "metadata": {},
   "outputs": [],
   "source": [
    "#from huggingface_hub import hf_hub_download"
   ]
  },
  {
   "cell_type": "code",
   "execution_count": null,
   "metadata": {},
   "outputs": [],
   "source": [
    "#hf_hub_download(repo_id = \"merve/sam2-hiera-tiny\", filename=\"sam2_hiera_tiny.pt\", local_dir = \"./\")"
   ]
  },
  {
   "cell_type": "code",
   "execution_count": 4,
   "metadata": {},
   "outputs": [],
   "source": [
    "from PIL import Image, ImageDraw\n",
    "import numpy as np\n",
    "from svg.path import parse_path"
   ]
  },
  {
   "cell_type": "code",
   "execution_count": 5,
   "metadata": {},
   "outputs": [],
   "source": [
    "def svg_path_to_mask(path_data, width, height):\n",
    "    # Create a blank image with a white background\n",
    "    img = Image.new('L', (width, height), 0)\n",
    "    draw = ImageDraw.Draw(img)\n",
    "    \n",
    "    # Parse the path\n",
    "    parsed_path = parse_path(path_data)\n",
    "    \n",
    "    # Extract path points\n",
    "    points = []\n",
    "    for segment in parsed_path:\n",
    "        if hasattr(segment, 'point'):\n",
    "            start = segment.start\n",
    "            end = segment.end\n",
    "            points.append((start.real, start.imag))\n",
    "            points.append((end.real, end.imag))\n",
    "    \n",
    "    # Draw the polygon on the image\n",
    "    draw.polygon(points, fill=1, outline=1)\n",
    "    \n",
    "    # Convert the image to a NumPy array\n",
    "    mask = np.array(img)\n",
    "    return mask"
   ]
  },
  {
   "cell_type": "code",
   "execution_count": 6,
   "metadata": {},
   "outputs": [
    {
     "name": "stdout",
     "output_type": "stream",
     "text": [
      "[[0 0 0 ... 0 0 0]\n",
      " [0 0 0 ... 0 0 0]\n",
      " [0 0 0 ... 0 0 0]\n",
      " ...\n",
      " [0 0 0 ... 0 0 0]\n",
      " [0 0 0 ... 0 0 0]\n",
      " [0 0 0 ... 0 0 0]]\n"
     ]
    }
   ],
   "source": [
    "# Example usage\n",
    "path = 'M81.64000651041667,26.166666666666668L71.50667317708333,29.9L63.506673177083336,36.833333333333336L58.17333984375,47.5L51.24000651041667,76.3L52.30667317708333,86.43333333333334L60.30667317708333,101.36666666666666L61.37333984375,104.56666666666666L64.04000651041666,107.23333333333333L67.77333984375,110.96666666666667L81.10667317708334,115.23333333333333L89.64000651041667,114.7L101.90667317708333,67.23333333333333L103.50667317708333,53.36666666666667L96.04000651041666,29.9L93.37333984375,27.766666666666666L88.04000651041666,25.633333333333333L83.77333984375,25.633333333333333Z'\n",
    "width, height = 200, 200\n",
    "mask = svg_path_to_mask(path, width, height)\n",
    "\n",
    "# The mask now contains a binary 2D array\n",
    "print(mask)"
   ]
  },
  {
   "cell_type": "code",
   "execution_count": 8,
   "metadata": {},
   "outputs": [
    {
     "data": {
      "text/plain": [
       "<matplotlib.image.AxesImage at 0x72564c36c4d0>"
      ]
     },
     "execution_count": 8,
     "metadata": {},
     "output_type": "execute_result"
    },
    {
     "data": {
      "image/png": "[encoded data removed]",
      "text/plain": [
       "<Figure size 640x480 with 1 Axes>"
      ]
     },
     "metadata": {},
     "output_type": "display_data"
    }
   ],
   "source": [
    "#plot the mask\n",
    "import matplotlib.pyplot as plt\n",
    "\n",
    "plt.imshow(mask, cmap='gray')"
   ]
  }
 ],
 "metadata": {
  "kernelspec": {
   "display_name": "env",
   "language": "python",
   "name": "python3"
  },
  "language_info": {
   "codemirror_mode": {
    "name": "ipython",
    "version": 3
   },
   "file_extension": ".py",
   "mimetype": "text/x-python",
   "name": "python",
   "nbconvert_exporter": "python",
   "pygments_lexer": "ipython3",
   "version": "3.12.3"
  }
 },
 "nbformat": 4,
 "nbformat_minor": 2
}
